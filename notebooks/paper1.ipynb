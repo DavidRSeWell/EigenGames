{
 "cells": [
  {
   "cell_type": "markdown",
   "id": "e5641871-63b2-4ee8-ba64-d963dbe65950",
   "metadata": {},
   "source": [
    "Just trying to understand / implement paper 1 stuffs"
   ]
  },
  {
   "cell_type": "markdown",
   "id": "92e2eaa0-d0c3-4248-ad9a-17c95c3f78a5",
   "metadata": {},
   "source": [
    "So how shall we construct eigengame?\n",
    "\n",
    "Input: \n",
    "* Data $ R^{n x d} $ where n = # data points , d = feature space\n",
    "\n",
    "Output:\n",
    "* Return principle components \n"
   ]
  },
  {
   "cell_type": "markdown",
   "id": "fe372383-2780-4ce2-85e1-c05a8c236331",
   "metadata": {},
   "source": [
    "### Algorithm 1:\n",
    "* maximum error tolerance\n",
    "* init vector $ v^{0}_{i} $ - sample from unit sphere\n",
    "* learned approx parents\n",
    "* learning rate\n",
    "* set $ v_{i} \\rightarrow v^{0}_{i} $\n",
    "* compute $ t_{i} $ - number of steps to run for. Dont get this calc yet\n",
    "* for some number of steps DO:\n",
    "    * Calc Reward\n",
    "    * Calc penalty\n",
    "    * Compute $ \\Delta_{v_{i}} $\n",
    "    * Compute the reimann projection\n",
    "    * Compute update $ v_{i}^{'} $\n",
    "    * Renorm"
   ]
  },
  {
   "cell_type": "code",
   "execution_count": 3,
   "id": "b22f5035-f288-4cfa-b62e-b642778fd594",
   "metadata": {},
   "outputs": [],
   "source": [
    "import numpy as np\n",
    "\n",
    "def sample_spherical(npoints, ndim=3):\n",
    "    vec = np.random.randn(ndim, npoints)\n",
    "    vec /= np.linalg.norm(vec, axis=0)\n",
    "    return vec\n"
   ]
  },
  {
   "cell_type": "code",
   "execution_count": 177,
   "id": "1d2b6155-334e-4115-88cd-6de55662c1b7",
   "metadata": {},
   "outputs": [],
   "source": [
    "def update_eigenvector(X: np.array, parents: list[np.array], d: int) -> tuple:\n",
    "    \"\"\"\n",
    "    Follow Algorithm 1\n",
    "    \"\"\"\n",
    "    v_i = sample_spherical(1, d)  # want d x 1\n",
    "    lr = 0.01\n",
    "    t_i = 10000  # TEMP\n",
    "    # precompute rewards upfront for each vector of parents\n",
    "    rewards_j = [np.matmul(X, v_j) for v_j in parents]\n",
    "    for i in range(t_i):\n",
    "        reward_i = np.matmul(X, v_i)  # n x 1\n",
    "\n",
    "        penalty = np.zeros((reward_i.shape))\n",
    "        for r_j in rewards_j:\n",
    "            p = float(np.dot(reward_i.T, r_j) / np.dot(r_j.T, r_j))\n",
    "            penalty += p * r_j\n",
    "\n",
    "        delta_vi = 2.0 * np.matmul(X.T, (reward_i - penalty))\n",
    "\n",
    "        reimann_projection = delta_vi - float(np.dot(delta_vi.T, v_i)) * v_i\n",
    "\n",
    "        v_prime = v_i + lr * reimann_projection\n",
    "\n",
    "        v_i = v_prime / np.linalg.norm(v_prime, axis=0)\n",
    "\n",
    "    return v_i, parents"
   ]
  },
  {
   "cell_type": "code",
   "execution_count": 178,
   "id": "9b02f8af-a77e-4446-9b43-69dee0d4dcea",
   "metadata": {},
   "outputs": [],
   "source": [
    "X = np.random.random((10,3))\n",
    "#parents = [sample_spherical(1,3)]"
   ]
  },
  {
   "cell_type": "code",
   "execution_count": 179,
   "id": "33ea1f33-c3b1-46f8-baf1-c8b4ab5b2f11",
   "metadata": {},
   "outputs": [],
   "source": [
    "parents = []"
   ]
  },
  {
   "cell_type": "code",
   "execution_count": 180,
   "id": "fd37cfbf-c4be-4475-9846-b800a4e5f930",
   "metadata": {},
   "outputs": [],
   "source": [
    "v_new , parents = update_eigenvector(X,parents,d=3)"
   ]
  },
  {
   "cell_type": "markdown",
   "id": "2d9ed8ec-0f32-400b-99f3-14beb241638e",
   "metadata": {},
   "source": [
    "One quick and easy test to see if this is working is to see if the new vector is orthogonal to parent"
   ]
  },
  {
   "cell_type": "code",
   "execution_count": 181,
   "id": "d0a0c177-8803-4d22-9a78-6f8d21d800d1",
   "metadata": {},
   "outputs": [
    {
     "data": {
      "text/plain": [
       "array([[-0.60254041],\n",
       "       [-0.61193931],\n",
       "       [-0.51232347]])"
      ]
     },
     "execution_count": 181,
     "metadata": {},
     "output_type": "execute_result"
    }
   ],
   "source": [
    "v_new"
   ]
  },
  {
   "cell_type": "code",
   "execution_count": 182,
   "id": "ef7199ad-c633-46df-a99e-ada0a993f0fb",
   "metadata": {},
   "outputs": [],
   "source": [
    "parents = [v_new]"
   ]
  },
  {
   "cell_type": "code",
   "execution_count": 183,
   "id": "4350e9f0-b143-4f4c-95f9-1f0c50a57be0",
   "metadata": {},
   "outputs": [],
   "source": [
    "v_new_2 , parents = update_eigenvector(X,parents,d=3)"
   ]
  },
  {
   "cell_type": "code",
   "execution_count": 184,
   "id": "f6615223-945b-404a-8a2f-bb41c8ec230e",
   "metadata": {},
   "outputs": [
    {
     "data": {
      "text/plain": [
       "array([[-3.88578059e-15]])"
      ]
     },
     "execution_count": 184,
     "metadata": {},
     "output_type": "execute_result"
    }
   ],
   "source": [
    "np.dot(v_new.T,v_new_2)"
   ]
  },
  {
   "cell_type": "code",
   "execution_count": 185,
   "id": "825e3693-41c7-4ab6-a464-d51590cfa25e",
   "metadata": {},
   "outputs": [
    {
     "data": {
      "text/plain": [
       "array([[ 0.72367048],\n",
       "       [-0.14824366],\n",
       "       [-0.67403624]])"
      ]
     },
     "execution_count": 185,
     "metadata": {},
     "output_type": "execute_result"
    }
   ],
   "source": [
    "v_new_2"
   ]
  },
  {
   "cell_type": "code",
   "execution_count": 186,
   "id": "f7e6ab1a-da7e-4b77-95ac-50edfd0ca661",
   "metadata": {},
   "outputs": [],
   "source": [
    "parents = [v_new,v_new_2]"
   ]
  },
  {
   "cell_type": "code",
   "execution_count": 187,
   "id": "dd2ba8a3-dbf0-444d-a052-8e1cdd0b8d67",
   "metadata": {},
   "outputs": [],
   "source": [
    "v_new_3 , parents = update_eigenvector(X,parents,d=3)"
   ]
  },
  {
   "cell_type": "code",
   "execution_count": 188,
   "id": "12990d1d-3be3-4f3e-a0bb-87e7a0f432fc",
   "metadata": {},
   "outputs": [],
   "source": [
    "from numpy.linalg import eig\n",
    "from sklearn.decomposition import PCA"
   ]
  },
  {
   "cell_type": "code",
   "execution_count": 149,
   "id": "5817a00f-46e8-478e-84f6-60d80cdca884",
   "metadata": {},
   "outputs": [],
   "source": [
    "pca = PCA(n_components=3)"
   ]
  },
  {
   "cell_type": "code",
   "execution_count": 150,
   "id": "e8e0e52a-058a-4ab8-a5b3-525b1d514c6f",
   "metadata": {},
   "outputs": [
    {
     "data": {
      "text/plain": [
       "PCA(n_components=3)"
      ]
     },
     "execution_count": 150,
     "metadata": {},
     "output_type": "execute_result"
    }
   ],
   "source": [
    "pca.fit(X)"
   ]
  },
  {
   "cell_type": "code",
   "execution_count": 151,
   "id": "70dac06c-ff51-4497-a6d7-0faf18800366",
   "metadata": {},
   "outputs": [
    {
     "data": {
      "text/plain": [
       "array([[ 0.62276282, -0.74699233,  0.2327422 ],\n",
       "       [-0.64244351, -0.31842047,  0.69704716],\n",
       "       [ 0.446579  ,  0.58361877,  0.67820081]])"
      ]
     },
     "execution_count": 151,
     "metadata": {},
     "output_type": "execute_result"
    }
   ],
   "source": [
    "pca.components_"
   ]
  },
  {
   "cell_type": "code",
   "execution_count": 152,
   "id": "cb6c607c-994f-4d16-b2dc-a2f1f398b662",
   "metadata": {},
   "outputs": [],
   "source": [
    "pc1,pc2,pc3 = pca.components_"
   ]
  },
  {
   "cell_type": "code",
   "execution_count": 159,
   "id": "60e732e4-c9e1-42ba-97fc-c2135708524c",
   "metadata": {},
   "outputs": [
    {
     "data": {
      "text/plain": [
       "array([-0.03758203])"
      ]
     },
     "execution_count": 159,
     "metadata": {},
     "output_type": "execute_result"
    }
   ],
   "source": [
    "np.dot(pc3,v_new_2)"
   ]
  },
  {
   "cell_type": "code",
   "execution_count": 147,
   "id": "5d5bcc36-fbba-4aa9-918f-3af4d1be9988",
   "metadata": {},
   "outputs": [
    {
     "data": {
      "text/plain": [
       "array([ 0.62276282, -0.74699233,  0.2327422 ])"
      ]
     },
     "execution_count": 147,
     "metadata": {},
     "output_type": "execute_result"
    }
   ],
   "source": [
    "pc1"
   ]
  },
  {
   "cell_type": "code",
   "execution_count": 189,
   "id": "671be8fc-a5b4-42cb-99e1-0314424a11e0",
   "metadata": {},
   "outputs": [
    {
     "data": {
      "text/plain": [
       "array([[-0.60254041],\n",
       "       [-0.61193931],\n",
       "       [-0.51232347]])"
      ]
     },
     "execution_count": 189,
     "metadata": {},
     "output_type": "execute_result"
    }
   ],
   "source": [
    "v_new"
   ]
  },
  {
   "cell_type": "code",
   "execution_count": 190,
   "id": "d2b97d8b-9b2a-42e0-9daa-3b223243fd03",
   "metadata": {},
   "outputs": [
    {
     "data": {
      "text/plain": [
       "array([[ 0.72367048],\n",
       "       [-0.14824366],\n",
       "       [-0.67403624]])"
      ]
     },
     "execution_count": 190,
     "metadata": {},
     "output_type": "execute_result"
    }
   ],
   "source": [
    "v_new_2"
   ]
  },
  {
   "cell_type": "code",
   "execution_count": 191,
   "id": "9895b172-9314-44a4-8e12-a5151bbdc913",
   "metadata": {},
   "outputs": [
    {
     "data": {
      "text/plain": [
       "array([[-0.33652056],\n",
       "       [ 0.77688744],\n",
       "       [-0.53216521]])"
      ]
     },
     "execution_count": 191,
     "metadata": {},
     "output_type": "execute_result"
    }
   ],
   "source": [
    "v_new_3"
   ]
  },
  {
   "cell_type": "code",
   "execution_count": 196,
   "id": "433a2c78-2951-444b-901c-9a6003aaf065",
   "metadata": {},
   "outputs": [
    {
     "data": {
      "text/plain": [
       "array([[-5.32907052e-15]])"
      ]
     },
     "execution_count": 196,
     "metadata": {},
     "output_type": "execute_result"
    }
   ],
   "source": [
    "np.dot(v_new_3.T,v_new_2)"
   ]
  },
  {
   "cell_type": "code",
   "execution_count": 128,
   "id": "7516e488-247f-4318-bd03-62ae2348e887",
   "metadata": {},
   "outputs": [
    {
     "data": {
      "text/plain": [
       "0.9991949739712095"
      ]
     },
     "execution_count": 128,
     "metadata": {},
     "output_type": "execute_result"
    }
   ],
   "source": [
    "np.dot(v_new_2.flatten(),pca.components_[0])"
   ]
  },
  {
   "cell_type": "code",
   "execution_count": 197,
   "id": "46fb7fdc-10bd-4a64-ab83-c2eb7db73602",
   "metadata": {},
   "outputs": [],
   "source": [
    "from sklearn.datasets import load_digits"
   ]
  },
  {
   "cell_type": "code",
   "execution_count": 199,
   "id": "d7a51abf-6553-42f6-9655-232c74e6031f",
   "metadata": {},
   "outputs": [],
   "source": [
    "digits = load_digits()"
   ]
  },
  {
   "cell_type": "code",
   "execution_count": 203,
   "id": "a1954327-658b-4743-8416-228585714315",
   "metadata": {},
   "outputs": [
    {
     "ename": "KeyError",
     "evalue": "0",
     "output_type": "error",
     "traceback": [
      "\u001b[0;31m---------------------------------------------------------------------------\u001b[0m",
      "\u001b[0;31mKeyError\u001b[0m                                  Traceback (most recent call last)",
      "\u001b[0;32m<ipython-input-203-438f71a8924c>\u001b[0m in \u001b[0;36m<module>\u001b[0;34m\u001b[0m\n\u001b[0;32m----> 1\u001b[0;31m \u001b[0mdigits\u001b[0m\u001b[0;34m[\u001b[0m\u001b[0;36m0\u001b[0m\u001b[0;34m]\u001b[0m\u001b[0;34m\u001b[0m\u001b[0;34m\u001b[0m\u001b[0m\n\u001b[0m",
      "\u001b[0;31mKeyError\u001b[0m: 0"
     ]
    }
   ],
   "source": [
    "digits[0]"
   ]
  },
  {
   "cell_type": "code",
   "execution_count": null,
   "id": "473e5673-16a0-46be-9e28-51d7bed5dfa6",
   "metadata": {},
   "outputs": [],
   "source": []
  }
 ],
 "metadata": {
  "kernelspec": {
   "display_name": "Python 3",
   "language": "python",
   "name": "python3"
  },
  "language_info": {
   "codemirror_mode": {
    "name": "ipython",
    "version": 3
   },
   "file_extension": ".py",
   "mimetype": "text/x-python",
   "name": "python",
   "nbconvert_exporter": "python",
   "pygments_lexer": "ipython3",
   "version": "3.9.0"
  }
 },
 "nbformat": 4,
 "nbformat_minor": 5
}
